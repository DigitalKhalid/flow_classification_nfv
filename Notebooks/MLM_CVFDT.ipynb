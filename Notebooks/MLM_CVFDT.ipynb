{
 "cells": [
  {
   "cell_type": "code",
   "execution_count": 125,
   "id": "d8d65313-c978-4fa9-8e26-6c588792a5ef",
   "metadata": {},
   "outputs": [],
   "source": [
    "%matplotlib notebook\n",
    "import IPython\n",
    "from IPython.display import display, HTML\n",
    "from matplotlib.backends.backend_agg import FigureCanvasAgg\n",
    "import matplotlib.pyplot as plt\n",
    "from skmultiflow.data import FileStream\n",
    "from skmultiflow.data import SEAGenerator\n",
    "from skmultiflow.trees import HoeffdingAdaptiveTreeClassifier\n",
    "# from skmultiflow.trees import HAT\n",
    "# from skmultiflow.meta import AdaptiveRandomForestClassifier\n",
    "from skmultiflow.core import Pipeline\n",
    "from skmultiflow.lazy import KNNADWINClassifier\n",
    "from skmultiflow.evaluation import EvaluatePrequential\n",
    "from skmultiflow.drift_detection import ADWIN\n",
    "# from sklearn.linear_model import SGDClassifier\n",
    "import numpy as np\n",
    "import pandas as pd\n",
    "import joblib\n",
    "import pickle"
   ]
  },
  {
   "cell_type": "code",
   "execution_count": 104,
   "id": "633d8b70-ca2f-48cd-9104-ed9532b7f3db",
   "metadata": {},
   "outputs": [],
   "source": [
    "model_info = {\n",
    "    'model_name': 'Concept Adaptive Very Fast Decision Tree',\n",
    "    'training_file': 'MLM_CVFDT.ipynb',\n",
    "    'file_name': 'model_cvfdt.pkl',\n",
    "    'scaler_file': 'model_cvfdt_scaler.pkl',\n",
    "    'prepared_by': 'Digital Khalid',\n",
    "    'library': 'skmultiflow',\n",
    "    'classifier': 'Hoeffding Adaptive Tree Classifier',\n",
    "    'normalization': 'Standard Scaler (Z-Score)',\n",
    "    'data_file': 'flows.csv',\n",
    "    'features': ['src_port', 'dst_port', 'protocol', 'first_pkt_size'],\n",
    "    'target': ['elephant'],\n",
    "}"
   ]
  },
  {
   "cell_type": "code",
   "execution_count": null,
   "id": "9228f3c8-6e56-4e49-9c2d-12050be1606b",
   "metadata": {},
   "outputs": [],
   "source": [
    "# Save model information as json file\n",
    "with open(f'model_info_{model_info[\"model_name\"]}.json', \"w\") as outfile:\n",
    "    json.dump(model_info, outfile)"
   ]
  },
  {
   "cell_type": "code",
   "execution_count": 14,
   "id": "4557a9c4-6a71-45ac-bd18-ef27731177c7",
   "metadata": {},
   "outputs": [],
   "source": [
    "# Read data file\n",
    "input_file = model_info['data_file']\n",
    "input_file\n",
    "flows = pd.read_csv(input_file)"
   ]
  },
  {
   "cell_type": "code",
   "execution_count": 70,
   "id": "7886c86f-5d74-4f7d-9241-a686e83c7448",
   "metadata": {},
   "outputs": [],
   "source": [
    "features = model_info['features']\n",
    "target = model_info['target']\n",
    "\n",
    "X = flows[features]\n",
    "y = flows[target]"
   ]
  },
  {
   "cell_type": "code",
   "execution_count": 107,
   "id": "d4d6acfd-a444-4604-a2a7-f57099a0b2e2",
   "metadata": {},
   "outputs": [],
   "source": [
    "# Feed data stream from file\n",
    "stream = FileStream(model_info['data_file'] , 6)"
   ]
  },
  {
   "cell_type": "code",
   "execution_count": 106,
   "id": "41ccf2c3-43be-45b5-822b-352caa6d152c",
   "metadata": {},
   "outputs": [
    {
     "name": "stderr",
     "output_type": "stream",
     "text": [
      "/home/dk/.local/lib/python3.10/site-packages/skmultiflow/data/base_stream.py:191: FutureWarning: 'prepare_for_use' has been deprecated in v0.5.0 and will be removed in v0.7.0.\n",
      "New instances of the Stream class are now ready to use after instantiation.\n",
      "  warnings.warn(\n"
     ]
    }
   ],
   "source": [
    "# stream.prepare_for_use()"
   ]
  },
  {
   "cell_type": "code",
   "execution_count": 108,
   "id": "2000868c-3fd9-4b2e-884b-46c4939908a1",
   "metadata": {},
   "outputs": [],
   "source": [
    "hat_classifier = HoeffdingAdaptiveTreeClassifier(\n",
    "    grace_period = 400,\n",
    "    split_criterion = 'gini',\n",
    "    split_confidence = 1e-5,\n",
    "    tie_threshold = 0.005,\n",
    "    binary_split = True,\n",
    "    stop_mem_management = False,\n",
    "    remove_poor_atts = False,\n",
    "    no_preprune = False,\n",
    "    leaf_prediction = 'nba',\n",
    "    nb_threshold = 0,\n",
    ")\n",
    "\n",
    "# model = AdaptiveRandomForestClassifier(memory_estimate_period=1000000)\n",
    "# model = KNNADWINClassifier()]"
   ]
  },
  {
   "cell_type": "code",
   "execution_count": 123,
   "id": "c5fa23ab-6b43-4dc4-af19-bacbb6b1e947",
   "metadata": {},
   "outputs": [],
   "source": [
    "pipe = Pipeline([('test', hat_classifier)])"
   ]
  },
  {
   "cell_type": "code",
   "execution_count": 113,
   "id": "14843d39-d983-4603-bed0-7577b4b7daf3",
   "metadata": {},
   "outputs": [],
   "source": [
    "evaluator = EvaluatePrequential(\n",
    "    max_samples = 100000,\n",
    "    batch_size = 1,\n",
    "    n_wait = 200,\n",
    "    pretrain_size = 500,\n",
    "    restart_stream = True,\n",
    "    data_points_for_classification = True,   \n",
    "    metrics = ['precision', 'Recall', 'Accuracy', 'Kappa', 'f1'],\n",
    "    show_plot = False,\n",
    "    output_file = 'log_CVFDT_training.csv',\n",
    ")"
   ]
  },
  {
   "cell_type": "code",
   "execution_count": 114,
   "id": "8321026a-ed97-4a9b-9e42-911bf543da31",
   "metadata": {},
   "outputs": [
    {
     "name": "stdout",
     "output_type": "stream",
     "text": [
      "Prequential Evaluation\n",
      "Evaluating 1 target(s).\n",
      "Pre-training on 500 sample(s).\n",
      "Evaluating...\n",
      " #################### [100%] [31.90s]\n",
      "Processed samples: 100000\n",
      "Mean performance:\n",
      "M0 - Accuracy     : 0.9961\n",
      "M0 - Kappa        : 0.5120\n",
      "M0 - Precision: 0.3865\n",
      "M0 - Recall: 0.7658\n"
     ]
    },
    {
     "data": {
      "text/plain": [
       "[HoeffdingAdaptiveTreeClassifier(binary_split=True, bootstrap_sampling=True,\n",
       "                                 grace_period=400, leaf_prediction='nba',\n",
       "                                 max_byte_size=33554432,\n",
       "                                 memory_estimate_period=1000000, nb_threshold=0,\n",
       "                                 no_preprune=False, nominal_attributes=None,\n",
       "                                 random_state=None, remove_poor_atts=False,\n",
       "                                 split_confidence=1e-05, split_criterion='gini',\n",
       "                                 stop_mem_management=False, tie_threshold=0.005)]"
      ]
     },
     "execution_count": 114,
     "metadata": {},
     "output_type": "execute_result"
    }
   ],
   "source": [
    "evaluator.evaluate(stream=stream, model=pipe)\n",
    "# display(HTML('<script>document.title = \"scikit-multiflow Evaluation\";</script>'))\n",
    "# display(eval)"
   ]
  },
  {
   "cell_type": "code",
   "execution_count": 128,
   "id": "43ae7b76-7235-40ed-9256-cd92a89d8129",
   "metadata": {},
   "outputs": [
    {
     "ename": "PicklingError",
     "evalue": "Can't pickle <class 'skmultiflow.evaluation.evaluate_prequential.EvaluatePrequential'>: import of module 'skmultiflow.evaluation.evaluate_prequential' failed",
     "output_type": "error",
     "traceback": [
      "\u001b[0;31m---------------------------------------------------------------------------\u001b[0m",
      "\u001b[0;31mPicklingError\u001b[0m                             Traceback (most recent call last)",
      "Cell \u001b[0;32mIn[128], line 1\u001b[0m\n\u001b[0;32m----> 1\u001b[0m \u001b[43mpickle\u001b[49m\u001b[38;5;241;43m.\u001b[39;49m\u001b[43mdump\u001b[49m\u001b[43m(\u001b[49m\u001b[43mevaluator\u001b[49m\u001b[43m,\u001b[49m\u001b[43m \u001b[49m\u001b[38;5;28;43mopen\u001b[39;49m\u001b[43m(\u001b[49m\u001b[38;5;124;43m'\u001b[39;49m\u001b[38;5;124;43mhat.pkl\u001b[39;49m\u001b[38;5;124;43m'\u001b[39;49m\u001b[43m,\u001b[49m\u001b[43m \u001b[49m\u001b[38;5;124;43m'\u001b[39;49m\u001b[38;5;124;43mwb\u001b[39;49m\u001b[38;5;124;43m'\u001b[39;49m\u001b[43m)\u001b[49m\u001b[43m)\u001b[49m\n",
      "\u001b[0;31mPicklingError\u001b[0m: Can't pickle <class 'skmultiflow.evaluation.evaluate_prequential.EvaluatePrequential'>: import of module 'skmultiflow.evaluation.evaluate_prequential' failed"
     ]
    }
   ],
   "source": [
    "pickle.dump(evaluator, open('hat.pkl', 'wb'))"
   ]
  },
  {
   "cell_type": "code",
   "execution_count": 131,
   "id": "a8e2d9e9-6b42-433a-8d0c-ec670099b1f5",
   "metadata": {
    "scrolled": true
   },
   "outputs": [
    {
     "ename": "TypeError",
     "evalue": "argument of type 'builtin_function_or_method' is not iterable",
     "output_type": "error",
     "traceback": [
      "\u001b[0;31m---------------------------------------------------------------------------\u001b[0m",
      "\u001b[0;31mTypeError\u001b[0m                                 Traceback (most recent call last)",
      "Cell \u001b[0;32mIn[131], line 1\u001b[0m\n\u001b[0;32m----> 1\u001b[0m \u001b[43mjoblib\u001b[49m\u001b[38;5;241;43m.\u001b[39;49m\u001b[43mdump\u001b[49m\u001b[43m(\u001b[49m\u001b[43mhat_classifier\u001b[49m\u001b[43m,\u001b[49m\u001b[38;5;124;43m'\u001b[39;49m\u001b[38;5;124;43mhat.pkl\u001b[39;49m\u001b[38;5;124;43m'\u001b[39;49m\u001b[43m)\u001b[49m\n",
      "File \u001b[0;32m/usr/local/lib/python3.10/dist-packages/joblib/numpy_pickle.py:553\u001b[0m, in \u001b[0;36mdump\u001b[0;34m(value, filename, compress, protocol, cache_size)\u001b[0m\n\u001b[1;32m    551\u001b[0m \u001b[38;5;28;01melif\u001b[39;00m is_filename:\n\u001b[1;32m    552\u001b[0m     \u001b[38;5;28;01mwith\u001b[39;00m \u001b[38;5;28mopen\u001b[39m(filename, \u001b[38;5;124m'\u001b[39m\u001b[38;5;124mwb\u001b[39m\u001b[38;5;124m'\u001b[39m) \u001b[38;5;28;01mas\u001b[39;00m f:\n\u001b[0;32m--> 553\u001b[0m         \u001b[43mNumpyPickler\u001b[49m\u001b[43m(\u001b[49m\u001b[43mf\u001b[49m\u001b[43m,\u001b[49m\u001b[43m \u001b[49m\u001b[43mprotocol\u001b[49m\u001b[38;5;241;43m=\u001b[39;49m\u001b[43mprotocol\u001b[49m\u001b[43m)\u001b[49m\u001b[38;5;241;43m.\u001b[39;49m\u001b[43mdump\u001b[49m\u001b[43m(\u001b[49m\u001b[43mvalue\u001b[49m\u001b[43m)\u001b[49m\n\u001b[1;32m    554\u001b[0m \u001b[38;5;28;01melse\u001b[39;00m:\n\u001b[1;32m    555\u001b[0m     NumpyPickler(filename, protocol\u001b[38;5;241m=\u001b[39mprotocol)\u001b[38;5;241m.\u001b[39mdump(value)\n",
      "File \u001b[0;32m/usr/lib/python3.10/pickle.py:487\u001b[0m, in \u001b[0;36m_Pickler.dump\u001b[0;34m(self, obj)\u001b[0m\n\u001b[1;32m    485\u001b[0m \u001b[38;5;28;01mif\u001b[39;00m \u001b[38;5;28mself\u001b[39m\u001b[38;5;241m.\u001b[39mproto \u001b[38;5;241m>\u001b[39m\u001b[38;5;241m=\u001b[39m \u001b[38;5;241m4\u001b[39m:\n\u001b[1;32m    486\u001b[0m     \u001b[38;5;28mself\u001b[39m\u001b[38;5;241m.\u001b[39mframer\u001b[38;5;241m.\u001b[39mstart_framing()\n\u001b[0;32m--> 487\u001b[0m \u001b[38;5;28;43mself\u001b[39;49m\u001b[38;5;241;43m.\u001b[39;49m\u001b[43msave\u001b[49m\u001b[43m(\u001b[49m\u001b[43mobj\u001b[49m\u001b[43m)\u001b[49m\n\u001b[1;32m    488\u001b[0m \u001b[38;5;28mself\u001b[39m\u001b[38;5;241m.\u001b[39mwrite(STOP)\n\u001b[1;32m    489\u001b[0m \u001b[38;5;28mself\u001b[39m\u001b[38;5;241m.\u001b[39mframer\u001b[38;5;241m.\u001b[39mend_framing()\n",
      "File \u001b[0;32m/usr/local/lib/python3.10/dist-packages/joblib/numpy_pickle.py:355\u001b[0m, in \u001b[0;36mNumpyPickler.save\u001b[0;34m(self, obj)\u001b[0m\n\u001b[1;32m    352\u001b[0m     wrapper\u001b[38;5;241m.\u001b[39mwrite_array(obj, \u001b[38;5;28mself\u001b[39m)\n\u001b[1;32m    353\u001b[0m     \u001b[38;5;28;01mreturn\u001b[39;00m\n\u001b[0;32m--> 355\u001b[0m \u001b[38;5;28;01mreturn\u001b[39;00m \u001b[43mPickler\u001b[49m\u001b[38;5;241;43m.\u001b[39;49m\u001b[43msave\u001b[49m\u001b[43m(\u001b[49m\u001b[38;5;28;43mself\u001b[39;49m\u001b[43m,\u001b[49m\u001b[43m \u001b[49m\u001b[43mobj\u001b[49m\u001b[43m)\u001b[49m\n",
      "File \u001b[0;32m/usr/lib/python3.10/pickle.py:603\u001b[0m, in \u001b[0;36m_Pickler.save\u001b[0;34m(self, obj, save_persistent_id)\u001b[0m\n\u001b[1;32m    599\u001b[0m     \u001b[38;5;28;01mraise\u001b[39;00m PicklingError(\u001b[38;5;124m\"\u001b[39m\u001b[38;5;124mTuple returned by \u001b[39m\u001b[38;5;132;01m%s\u001b[39;00m\u001b[38;5;124m must have \u001b[39m\u001b[38;5;124m\"\u001b[39m\n\u001b[1;32m    600\u001b[0m                         \u001b[38;5;124m\"\u001b[39m\u001b[38;5;124mtwo to six elements\u001b[39m\u001b[38;5;124m\"\u001b[39m \u001b[38;5;241m%\u001b[39m reduce)\n\u001b[1;32m    602\u001b[0m \u001b[38;5;66;03m# Save the reduce() output and finally memoize the object\u001b[39;00m\n\u001b[0;32m--> 603\u001b[0m \u001b[38;5;28;43mself\u001b[39;49m\u001b[38;5;241;43m.\u001b[39;49m\u001b[43msave_reduce\u001b[49m\u001b[43m(\u001b[49m\u001b[43mobj\u001b[49m\u001b[38;5;241;43m=\u001b[39;49m\u001b[43mobj\u001b[49m\u001b[43m,\u001b[49m\u001b[43m \u001b[49m\u001b[38;5;241;43m*\u001b[39;49m\u001b[43mrv\u001b[49m\u001b[43m)\u001b[49m\n",
      "File \u001b[0;32m/usr/lib/python3.10/pickle.py:687\u001b[0m, in \u001b[0;36m_Pickler.save_reduce\u001b[0;34m(self, func, args, state, listitems, dictitems, state_setter, obj)\u001b[0m\n\u001b[1;32m    684\u001b[0m     \u001b[38;5;28;01mraise\u001b[39;00m PicklingError(\n\u001b[1;32m    685\u001b[0m         \u001b[38;5;124m\"\u001b[39m\u001b[38;5;124margs[0] from __newobj__ args has the wrong class\u001b[39m\u001b[38;5;124m\"\u001b[39m)\n\u001b[1;32m    686\u001b[0m args \u001b[38;5;241m=\u001b[39m args[\u001b[38;5;241m1\u001b[39m:]\n\u001b[0;32m--> 687\u001b[0m \u001b[43msave\u001b[49m\u001b[43m(\u001b[49m\u001b[38;5;28;43mcls\u001b[39;49m\u001b[43m)\u001b[49m\n\u001b[1;32m    688\u001b[0m save(args)\n\u001b[1;32m    689\u001b[0m write(NEWOBJ)\n",
      "File \u001b[0;32m/usr/local/lib/python3.10/dist-packages/joblib/numpy_pickle.py:355\u001b[0m, in \u001b[0;36mNumpyPickler.save\u001b[0;34m(self, obj)\u001b[0m\n\u001b[1;32m    352\u001b[0m     wrapper\u001b[38;5;241m.\u001b[39mwrite_array(obj, \u001b[38;5;28mself\u001b[39m)\n\u001b[1;32m    353\u001b[0m     \u001b[38;5;28;01mreturn\u001b[39;00m\n\u001b[0;32m--> 355\u001b[0m \u001b[38;5;28;01mreturn\u001b[39;00m \u001b[43mPickler\u001b[49m\u001b[38;5;241;43m.\u001b[39;49m\u001b[43msave\u001b[49m\u001b[43m(\u001b[49m\u001b[38;5;28;43mself\u001b[39;49m\u001b[43m,\u001b[49m\u001b[43m \u001b[49m\u001b[43mobj\u001b[49m\u001b[43m)\u001b[49m\n",
      "File \u001b[0;32m/usr/lib/python3.10/pickle.py:572\u001b[0m, in \u001b[0;36m_Pickler.save\u001b[0;34m(self, obj, save_persistent_id)\u001b[0m\n\u001b[1;32m    568\u001b[0m \u001b[38;5;28;01melse\u001b[39;00m:\n\u001b[1;32m    569\u001b[0m     \u001b[38;5;66;03m# Check for a class with a custom metaclass; treat as regular\u001b[39;00m\n\u001b[1;32m    570\u001b[0m     \u001b[38;5;66;03m# class\u001b[39;00m\n\u001b[1;32m    571\u001b[0m     \u001b[38;5;28;01mif\u001b[39;00m \u001b[38;5;28missubclass\u001b[39m(t, \u001b[38;5;28mtype\u001b[39m):\n\u001b[0;32m--> 572\u001b[0m         \u001b[38;5;28;43mself\u001b[39;49m\u001b[38;5;241;43m.\u001b[39;49m\u001b[43msave_global\u001b[49m\u001b[43m(\u001b[49m\u001b[43mobj\u001b[49m\u001b[43m)\u001b[49m\n\u001b[1;32m    573\u001b[0m         \u001b[38;5;28;01mreturn\u001b[39;00m\n\u001b[1;32m    575\u001b[0m     \u001b[38;5;66;03m# Check for a __reduce_ex__ method, fall back to __reduce__\u001b[39;00m\n",
      "File \u001b[0;32m/usr/lib/python3.10/pickle.py:1067\u001b[0m, in \u001b[0;36m_Pickler.save_global\u001b[0;34m(self, obj, name)\u001b[0m\n\u001b[1;32m   1065\u001b[0m module_name \u001b[38;5;241m=\u001b[39m whichmodule(obj, name)\n\u001b[1;32m   1066\u001b[0m \u001b[38;5;28;01mtry\u001b[39;00m:\n\u001b[0;32m-> 1067\u001b[0m     \u001b[38;5;28;43m__import__\u001b[39;49m\u001b[43m(\u001b[49m\u001b[43mmodule_name\u001b[49m\u001b[43m,\u001b[49m\u001b[43m \u001b[49m\u001b[43mlevel\u001b[49m\u001b[38;5;241;43m=\u001b[39;49m\u001b[38;5;241;43m0\u001b[39;49m\u001b[43m)\u001b[49m\n\u001b[1;32m   1068\u001b[0m     module \u001b[38;5;241m=\u001b[39m sys\u001b[38;5;241m.\u001b[39mmodules[module_name]\n\u001b[1;32m   1069\u001b[0m     obj2, parent \u001b[38;5;241m=\u001b[39m _getattribute(module, name)\n",
      "File \u001b[0;32m~/.local/lib/python3.10/site-packages/skmultiflow/__init__.py:10\u001b[0m\n\u001b[1;32m      8\u001b[0m \u001b[38;5;28;01mfrom\u001b[39;00m \u001b[38;5;21;01m.\u001b[39;00m \u001b[38;5;28;01mimport\u001b[39;00m evaluation\n\u001b[1;32m      9\u001b[0m \u001b[38;5;28;01mfrom\u001b[39;00m \u001b[38;5;21;01m.\u001b[39;00m \u001b[38;5;28;01mimport\u001b[39;00m lazy\n\u001b[0;32m---> 10\u001b[0m \u001b[38;5;28;01mfrom\u001b[39;00m \u001b[38;5;21;01m.\u001b[39;00m \u001b[38;5;28;01mimport\u001b[39;00m meta\n\u001b[1;32m     11\u001b[0m \u001b[38;5;28;01mfrom\u001b[39;00m \u001b[38;5;21;01m.\u001b[39;00m \u001b[38;5;28;01mimport\u001b[39;00m metrics\n\u001b[1;32m     12\u001b[0m \u001b[38;5;28;01mfrom\u001b[39;00m \u001b[38;5;21;01m.\u001b[39;00m \u001b[38;5;28;01mimport\u001b[39;00m neural_networks\n",
      "File \u001b[0;32m~/.local/lib/python3.10/site-packages/skmultiflow/meta/__init__.py:8\u001b[0m\n\u001b[1;32m      6\u001b[0m \u001b[38;5;28;01mfrom\u001b[39;00m \u001b[38;5;21;01m.\u001b[39;00m\u001b[38;5;21;01madaptive_random_forest_regressor\u001b[39;00m \u001b[38;5;28;01mimport\u001b[39;00m AdaptiveRandomForestRegressor\n\u001b[1;32m      7\u001b[0m \u001b[38;5;28;01mfrom\u001b[39;00m \u001b[38;5;21;01m.\u001b[39;00m\u001b[38;5;21;01mbatch_incremental\u001b[39;00m \u001b[38;5;28;01mimport\u001b[39;00m BatchIncrementalClassifier\n\u001b[0;32m----> 8\u001b[0m \u001b[38;5;28;01mfrom\u001b[39;00m \u001b[38;5;21;01m.\u001b[39;00m\u001b[38;5;21;01mleverage_bagging\u001b[39;00m \u001b[38;5;28;01mimport\u001b[39;00m LeveragingBaggingClassifier\n\u001b[1;32m      9\u001b[0m \u001b[38;5;28;01mfrom\u001b[39;00m \u001b[38;5;21;01m.\u001b[39;00m\u001b[38;5;21;01moza_bagging\u001b[39;00m \u001b[38;5;28;01mimport\u001b[39;00m OzaBaggingClassifier\n\u001b[1;32m     10\u001b[0m \u001b[38;5;28;01mfrom\u001b[39;00m \u001b[38;5;21;01m.\u001b[39;00m\u001b[38;5;21;01moza_bagging_adwin\u001b[39;00m \u001b[38;5;28;01mimport\u001b[39;00m OzaBaggingADWINClassifier\n",
      "File \u001b[0;32m~/.local/lib/python3.10/site-packages/skmultiflow/meta/leverage_bagging.py:12\u001b[0m\n\u001b[1;32m      7\u001b[0m \u001b[38;5;28;01mfrom\u001b[39;00m \u001b[38;5;21;01mskmultiflow\u001b[39;00m\u001b[38;5;21;01m.\u001b[39;00m\u001b[38;5;21;01mutils\u001b[39;00m \u001b[38;5;28;01mimport\u001b[39;00m check_random_state\n\u001b[1;32m      9\u001b[0m \u001b[38;5;28;01mimport\u001b[39;00m \u001b[38;5;21;01mwarnings\u001b[39;00m\n\u001b[0;32m---> 12\u001b[0m \u001b[38;5;28;01mdef\u001b[39;00m \u001b[38;5;21mLeverageBagging\u001b[39m(base_estimator\u001b[38;5;241m=\u001b[39m\u001b[43mKNNClassifier\u001b[49m\u001b[43m(\u001b[49m\u001b[43m)\u001b[49m, n_estimators\u001b[38;5;241m=\u001b[39m\u001b[38;5;241m10\u001b[39m, w\u001b[38;5;241m=\u001b[39m\u001b[38;5;241m6\u001b[39m, delta\u001b[38;5;241m=\u001b[39m\u001b[38;5;241m0.002\u001b[39m,\n\u001b[1;32m     13\u001b[0m                     enable_code_matrix\u001b[38;5;241m=\u001b[39m\u001b[38;5;28;01mFalse\u001b[39;00m, leverage_algorithm\u001b[38;5;241m=\u001b[39m\u001b[38;5;124m'\u001b[39m\u001b[38;5;124mleveraging_bag\u001b[39m\u001b[38;5;124m'\u001b[39m,\n\u001b[1;32m     14\u001b[0m                     random_state\u001b[38;5;241m=\u001b[39m\u001b[38;5;28;01mNone\u001b[39;00m):     \u001b[38;5;66;03m# pragma: no cover\u001b[39;00m\n\u001b[1;32m     15\u001b[0m     warnings\u001b[38;5;241m.\u001b[39mwarn(\u001b[38;5;124m\"\u001b[39m\u001b[38;5;124m'\u001b[39m\u001b[38;5;124mLeverageBagging\u001b[39m\u001b[38;5;124m'\u001b[39m\u001b[38;5;124m has been renamed to \u001b[39m\u001b[38;5;124m'\u001b[39m\u001b[38;5;124mLeveragingBaggingClassifier\u001b[39m\u001b[38;5;124m'\u001b[39m\u001b[38;5;124m in \u001b[39m\u001b[38;5;124m\"\u001b[39m\n\u001b[1;32m     16\u001b[0m                   \u001b[38;5;124m\"\u001b[39m\u001b[38;5;124mv0.5.0.\u001b[39m\u001b[38;5;130;01m\\n\u001b[39;00m\u001b[38;5;124mThe old name will be removed in v0.7.0\u001b[39m\u001b[38;5;124m\"\u001b[39m, category\u001b[38;5;241m=\u001b[39m\u001b[38;5;167;01mFutureWarning\u001b[39;00m)\n\u001b[1;32m     17\u001b[0m     \u001b[38;5;28;01mreturn\u001b[39;00m LeveragingBaggingClassifier(base_estimator\u001b[38;5;241m=\u001b[39mbase_estimator,\n\u001b[1;32m     18\u001b[0m                                        n_estimators\u001b[38;5;241m=\u001b[39mn_estimators,\n\u001b[1;32m     19\u001b[0m                                        w\u001b[38;5;241m=\u001b[39mw,\n\u001b[0;32m   (...)\u001b[0m\n\u001b[1;32m     22\u001b[0m                                        leverage_algorithm\u001b[38;5;241m=\u001b[39mleverage_algorithm,\n\u001b[1;32m     23\u001b[0m                                        random_state\u001b[38;5;241m=\u001b[39mrandom_state)\n",
      "File \u001b[0;32m~/.local/lib/python3.10/site-packages/skmultiflow/lazy/knn_classifier.py:87\u001b[0m, in \u001b[0;36mKNNClassifier.__init__\u001b[0;34m(self, n_neighbors, max_window_size, leaf_size, metric)\u001b[0m\n\u001b[1;32m     82\u001b[0m \u001b[38;5;28;01mdef\u001b[39;00m \u001b[38;5;21m__init__\u001b[39m(\u001b[38;5;28mself\u001b[39m,\n\u001b[1;32m     83\u001b[0m              n_neighbors\u001b[38;5;241m=\u001b[39m\u001b[38;5;241m5\u001b[39m,\n\u001b[1;32m     84\u001b[0m              max_window_size\u001b[38;5;241m=\u001b[39m\u001b[38;5;241m1000\u001b[39m,\n\u001b[1;32m     85\u001b[0m              leaf_size\u001b[38;5;241m=\u001b[39m\u001b[38;5;241m30\u001b[39m,\n\u001b[1;32m     86\u001b[0m              metric\u001b[38;5;241m=\u001b[39m\u001b[38;5;124m'\u001b[39m\u001b[38;5;124meuclidean\u001b[39m\u001b[38;5;124m'\u001b[39m):\n\u001b[0;32m---> 87\u001b[0m     \u001b[38;5;28;43msuper\u001b[39;49m\u001b[43m(\u001b[49m\u001b[43m)\u001b[49m\u001b[38;5;241;43m.\u001b[39;49m\u001b[38;5;21;43m__init__\u001b[39;49m\u001b[43m(\u001b[49m\u001b[43mn_neighbors\u001b[49m\u001b[38;5;241;43m=\u001b[39;49m\u001b[43mn_neighbors\u001b[49m\u001b[43m,\u001b[49m\n\u001b[1;32m     88\u001b[0m \u001b[43m                     \u001b[49m\u001b[43mmax_window_size\u001b[49m\u001b[38;5;241;43m=\u001b[39;49m\u001b[43mmax_window_size\u001b[49m\u001b[43m,\u001b[49m\n\u001b[1;32m     89\u001b[0m \u001b[43m                     \u001b[49m\u001b[43mleaf_size\u001b[49m\u001b[38;5;241;43m=\u001b[39;49m\u001b[43mleaf_size\u001b[49m\u001b[43m,\u001b[49m\n\u001b[1;32m     90\u001b[0m \u001b[43m                     \u001b[49m\u001b[43mmetric\u001b[49m\u001b[38;5;241;43m=\u001b[39;49m\u001b[43mmetric\u001b[49m\u001b[43m)\u001b[49m\n\u001b[1;32m     91\u001b[0m     \u001b[38;5;28mself\u001b[39m\u001b[38;5;241m.\u001b[39mclasses \u001b[38;5;241m=\u001b[39m []\n",
      "File \u001b[0;32m~/.local/lib/python3.10/site-packages/skmultiflow/lazy/base_neighbors.py:18\u001b[0m, in \u001b[0;36mBaseNeighbors.__init__\u001b[0;34m(self, n_neighbors, max_window_size, leaf_size, metric)\u001b[0m\n\u001b[1;32m     16\u001b[0m \u001b[38;5;28mself\u001b[39m\u001b[38;5;241m.\u001b[39mmax_window_size \u001b[38;5;241m=\u001b[39m max_window_size\n\u001b[1;32m     17\u001b[0m \u001b[38;5;28mself\u001b[39m\u001b[38;5;241m.\u001b[39mleaf_size \u001b[38;5;241m=\u001b[39m leaf_size\n\u001b[0;32m---> 18\u001b[0m \u001b[38;5;28;01mif\u001b[39;00m \u001b[43mmetric\u001b[49m\u001b[43m \u001b[49m\u001b[38;5;129;43;01mnot\u001b[39;49;00m\u001b[43m \u001b[49m\u001b[38;5;129;43;01min\u001b[39;49;00m\u001b[43m \u001b[49m\u001b[38;5;28;43mself\u001b[39;49m\u001b[38;5;241;43m.\u001b[39;49m\u001b[43mvalid_metrics\u001b[49m\u001b[43m(\u001b[49m\u001b[43m)\u001b[49m:\n\u001b[1;32m     19\u001b[0m     \u001b[38;5;28;01mraise\u001b[39;00m \u001b[38;5;167;01mValueError\u001b[39;00m(\u001b[38;5;124m\"\u001b[39m\u001b[38;5;124mInvalid metric: \u001b[39m\u001b[38;5;132;01m{}\u001b[39;00m\u001b[38;5;124m.\u001b[39m\u001b[38;5;130;01m\\n\u001b[39;00m\u001b[38;5;124m\"\u001b[39m\n\u001b[1;32m     20\u001b[0m                      \u001b[38;5;124m\"\u001b[39m\u001b[38;5;124mValid options are: \u001b[39m\u001b[38;5;132;01m{}\u001b[39;00m\u001b[38;5;124m\"\u001b[39m\u001b[38;5;241m.\u001b[39mformat(metric,\n\u001b[1;32m     21\u001b[0m                                                     \u001b[38;5;28mself\u001b[39m\u001b[38;5;241m.\u001b[39mvalid_metrics()))\n\u001b[1;32m     22\u001b[0m \u001b[38;5;28mself\u001b[39m\u001b[38;5;241m.\u001b[39mmetric \u001b[38;5;241m=\u001b[39m metric\n",
      "\u001b[0;31mTypeError\u001b[0m: argument of type 'builtin_function_or_method' is not iterable"
     ]
    }
   ],
   "source": [
    "joblib.dump(hat_classifier,'hat.pkl')"
   ]
  },
  {
   "cell_type": "code",
   "execution_count": 132,
   "id": "31078a16-1647-400d-bc12-b9a378642e56",
   "metadata": {},
   "outputs": [
    {
     "ename": "EOFError",
     "evalue": "",
     "output_type": "error",
     "traceback": [
      "\u001b[0;31m---------------------------------------------------------------------------\u001b[0m",
      "\u001b[0;31mEOFError\u001b[0m                                  Traceback (most recent call last)",
      "Cell \u001b[0;32mIn[132], line 1\u001b[0m\n\u001b[0;32m----> 1\u001b[0m model \u001b[38;5;241m=\u001b[39m \u001b[43mjoblib\u001b[49m\u001b[38;5;241;43m.\u001b[39;49m\u001b[43mload\u001b[49m\u001b[43m(\u001b[49m\u001b[38;5;124;43m'\u001b[39;49m\u001b[38;5;124;43mhat.pkl\u001b[39;49m\u001b[38;5;124;43m'\u001b[39;49m\u001b[43m)\u001b[49m\n",
      "File \u001b[0;32m/usr/local/lib/python3.10/dist-packages/joblib/numpy_pickle.py:658\u001b[0m, in \u001b[0;36mload\u001b[0;34m(filename, mmap_mode)\u001b[0m\n\u001b[1;32m    652\u001b[0m             \u001b[38;5;28;01mif\u001b[39;00m \u001b[38;5;28misinstance\u001b[39m(fobj, \u001b[38;5;28mstr\u001b[39m):\n\u001b[1;32m    653\u001b[0m                 \u001b[38;5;66;03m# if the returned file object is a string, this means we\u001b[39;00m\n\u001b[1;32m    654\u001b[0m                 \u001b[38;5;66;03m# try to load a pickle file generated with an version of\u001b[39;00m\n\u001b[1;32m    655\u001b[0m                 \u001b[38;5;66;03m# Joblib so we load it with joblib compatibility function.\u001b[39;00m\n\u001b[1;32m    656\u001b[0m                 \u001b[38;5;28;01mreturn\u001b[39;00m load_compatibility(fobj)\n\u001b[0;32m--> 658\u001b[0m             obj \u001b[38;5;241m=\u001b[39m \u001b[43m_unpickle\u001b[49m\u001b[43m(\u001b[49m\u001b[43mfobj\u001b[49m\u001b[43m,\u001b[49m\u001b[43m \u001b[49m\u001b[43mfilename\u001b[49m\u001b[43m,\u001b[49m\u001b[43m \u001b[49m\u001b[43mmmap_mode\u001b[49m\u001b[43m)\u001b[49m\n\u001b[1;32m    659\u001b[0m \u001b[38;5;28;01mreturn\u001b[39;00m obj\n",
      "File \u001b[0;32m/usr/local/lib/python3.10/dist-packages/joblib/numpy_pickle.py:577\u001b[0m, in \u001b[0;36m_unpickle\u001b[0;34m(fobj, filename, mmap_mode)\u001b[0m\n\u001b[1;32m    575\u001b[0m obj \u001b[38;5;241m=\u001b[39m \u001b[38;5;28;01mNone\u001b[39;00m\n\u001b[1;32m    576\u001b[0m \u001b[38;5;28;01mtry\u001b[39;00m:\n\u001b[0;32m--> 577\u001b[0m     obj \u001b[38;5;241m=\u001b[39m \u001b[43munpickler\u001b[49m\u001b[38;5;241;43m.\u001b[39;49m\u001b[43mload\u001b[49m\u001b[43m(\u001b[49m\u001b[43m)\u001b[49m\n\u001b[1;32m    578\u001b[0m     \u001b[38;5;28;01mif\u001b[39;00m unpickler\u001b[38;5;241m.\u001b[39mcompat_mode:\n\u001b[1;32m    579\u001b[0m         warnings\u001b[38;5;241m.\u001b[39mwarn(\u001b[38;5;124m\"\u001b[39m\u001b[38;5;124mThe file \u001b[39m\u001b[38;5;124m'\u001b[39m\u001b[38;5;132;01m%s\u001b[39;00m\u001b[38;5;124m'\u001b[39m\u001b[38;5;124m has been generated with a \u001b[39m\u001b[38;5;124m\"\u001b[39m\n\u001b[1;32m    580\u001b[0m                       \u001b[38;5;124m\"\u001b[39m\u001b[38;5;124mjoblib version less than 0.10. \u001b[39m\u001b[38;5;124m\"\u001b[39m\n\u001b[1;32m    581\u001b[0m                       \u001b[38;5;124m\"\u001b[39m\u001b[38;5;124mPlease regenerate this pickle file.\u001b[39m\u001b[38;5;124m\"\u001b[39m\n\u001b[1;32m    582\u001b[0m                       \u001b[38;5;241m%\u001b[39m filename,\n\u001b[1;32m    583\u001b[0m                       \u001b[38;5;167;01mDeprecationWarning\u001b[39;00m, stacklevel\u001b[38;5;241m=\u001b[39m\u001b[38;5;241m3\u001b[39m)\n",
      "File \u001b[0;32m/usr/lib/python3.10/pickle.py:1211\u001b[0m, in \u001b[0;36m_Unpickler.load\u001b[0;34m(self)\u001b[0m\n\u001b[1;32m   1209\u001b[0m key \u001b[38;5;241m=\u001b[39m read(\u001b[38;5;241m1\u001b[39m)\n\u001b[1;32m   1210\u001b[0m \u001b[38;5;28;01mif\u001b[39;00m \u001b[38;5;129;01mnot\u001b[39;00m key:\n\u001b[0;32m-> 1211\u001b[0m     \u001b[38;5;28;01mraise\u001b[39;00m \u001b[38;5;167;01mEOFError\u001b[39;00m\n\u001b[1;32m   1212\u001b[0m \u001b[38;5;28;01massert\u001b[39;00m \u001b[38;5;28misinstance\u001b[39m(key, bytes_types)\n\u001b[1;32m   1213\u001b[0m dispatch[key[\u001b[38;5;241m0\u001b[39m]](\u001b[38;5;28mself\u001b[39m)\n",
      "\u001b[0;31mEOFError\u001b[0m: "
     ]
    }
   ],
   "source": [
    "model = joblib.load('hat.pkl')"
   ]
  },
  {
   "cell_type": "code",
   "execution_count": 116,
   "id": "79ba170a-eb3a-4697-8cff-b94543db9241",
   "metadata": {},
   "outputs": [
    {
     "data": {
      "text/plain": [
       "skmultiflow.evaluation.evaluate_prequential.EvaluatePrequential"
      ]
     },
     "execution_count": 116,
     "metadata": {},
     "output_type": "execute_result"
    }
   ],
   "source": [
    "type(eval)"
   ]
  },
  {
   "cell_type": "code",
   "execution_count": 117,
   "id": "7a78bbd8-4f40-4d12-b60d-e9ccc879828c",
   "metadata": {},
   "outputs": [
    {
     "data": {
      "text/plain": [
       "\"HoeffdingAdaptiveTreeClassifier(binary_split=False, bootstrap_sampling=True,\\n                                grace_period=200, leaf_prediction='nba',\\n                                max_byte_size=33554432,\\n                                memory_estimate_period=1000000, nb_threshold=0,\\n                                no_preprune=False, nominal_attributes=None,\\n                                random_state=None, remove_poor_atts=False,\\n                                split_confidence=1e-07,\\n                                split_criterion='info_gain',\\n                                stop_mem_management=False, tie_threshold=0.05)\""
      ]
     },
     "execution_count": 117,
     "metadata": {},
     "output_type": "execute_result"
    }
   ],
   "source": [
    "model.get_info()"
   ]
  },
  {
   "cell_type": "code",
   "execution_count": 120,
   "id": "209a0264-f549-4589-955a-e02918378598",
   "metadata": {},
   "outputs": [
    {
     "data": {
      "text/plain": [
       "0"
      ]
     },
     "execution_count": 120,
     "metadata": {},
     "output_type": "execute_result"
    }
   ],
   "source": [
    "model.measure_tree_depth()"
   ]
  },
  {
   "cell_type": "code",
   "execution_count": null,
   "id": "c6d07b10-9e9f-49cd-9a82-7de74ca9e805",
   "metadata": {},
   "outputs": [],
   "source": []
  }
 ],
 "metadata": {
  "kernelspec": {
   "display_name": "Python 3 (ipykernel)",
   "language": "python",
   "name": "python3"
  },
  "language_info": {
   "codemirror_mode": {
    "name": "ipython",
    "version": 3
   },
   "file_extension": ".py",
   "mimetype": "text/x-python",
   "name": "python",
   "nbconvert_exporter": "python",
   "pygments_lexer": "ipython3",
   "version": "3.10.12"
  }
 },
 "nbformat": 4,
 "nbformat_minor": 5
}
