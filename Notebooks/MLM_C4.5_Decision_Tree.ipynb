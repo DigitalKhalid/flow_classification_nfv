{
 "cells": [
  {
   "cell_type": "code",
   "execution_count": 1,
   "id": "45f608d0",
   "metadata": {},
   "outputs": [],
   "source": [
    "import pandas as pd\n",
    "import numpy as np\n",
    "from datetime import datetime\n",
    "import matplotlib.pyplot as plt\n",
    "import matplotlib\n",
    "import seaborn as sns\n",
    "from sklearn.model_selection import cross_val_score\n",
    "from sklearn.model_selection import train_test_split\n",
    "\n",
    "from sklearn.preprocessing import StandardScaler\n",
    "from sklearn.metrics import f1_score, r2_score, roc_auc_score\n",
    "from sklearn.metrics import confusion_matrix, precision_score, accuracy_score, recall_score\n",
    "import itertools\n",
    "import joblib\n",
    "from chefboost import Chefboost as chef\n",
    "import time"
   ]
  },
  {
   "cell_type": "code",
   "execution_count": 8,
   "id": "aac77aab",
   "metadata": {},
   "outputs": [],
   "source": [
    "model_info = {\n",
    "    'model_name': 'Decision Tree C4.5',\n",
    "    'file_name': 'model_dt_c4.5.pkl',\n",
    "    'prepared_by': 'Digital Khalid',\n",
    "    'library': 'Chefboost',\n",
    "    'classifier': 'C4.5',\n",
    "    'normalization': 'Standard Scaler (Z-Score)',\n",
    "    'data_file': 'flows.csv',\n",
    "    'features': ['src_port', 'dst_port', 'protocol', 'first_pkt_size'],\n",
    "    'target': ['Decision'],\n",
    "}"
   ]
  },
  {
   "cell_type": "code",
   "execution_count": 4,
   "id": "e250a77b",
   "metadata": {},
   "outputs": [],
   "source": [
    "# Read data file\n",
    "input_file = model_info['data_file']\n",
    "flows = pd.read_csv(input_file)"
   ]
  },
  {
   "cell_type": "code",
   "execution_count": 5,
   "id": "5370c756",
   "metadata": {},
   "outputs": [],
   "source": [
    "# Replace values in elephant, 1 with \"elephant\" and 0 with \"mice\"\n",
    "flows['elephant'] = flows['elephant'].replace({1: 'elephant', 0: 'mice'})\n",
    "\n",
    "# Rename the target column as Decision\n",
    "flows.rename(columns = {'elephant':'Decision'}, inplace = True)"
   ]
  },
  {
   "cell_type": "code",
   "execution_count": 10,
   "id": "6b6d0ea5",
   "metadata": {},
   "outputs": [],
   "source": [
    "features = model_info['features']\n",
    "target = model_info['target']\n",
    "\n",
    "X = flows[features+target]"
   ]
  },
  {
   "cell_type": "code",
   "execution_count": 11,
   "id": "9065fc5e",
   "metadata": {},
   "outputs": [
    {
     "name": "stdout",
     "output_type": "stream",
     "text": [
      "features (X)\n",
      "         src_port  dst_port  protocol  first_pkt_size  Decision\n",
      "0            1999     54524         6              66      mice\n",
      "1               0         0         1              70  elephant\n",
      "2           50005      3479        17             183  elephant\n",
      "3           44734       443         6              54      mice\n",
      "4           43332      3128         6              54      mice\n",
      "...           ...       ...       ...             ...       ...\n",
      "1815567        80     12256         6              66      mice\n",
      "1815568         0         0         1              60      mice\n",
      "1815569         0         0         1              60      mice\n",
      "1815570     44843      2375         6              54      mice\n",
      "1815571     50355     43527         6              58      mice\n",
      "\n",
      "[1815572 rows x 5 columns]\n"
     ]
    }
   ],
   "source": [
    "print(f'features (X)\\n{X}')"
   ]
  },
  {
   "cell_type": "code",
   "execution_count": 12,
   "id": "82267d8c",
   "metadata": {},
   "outputs": [
    {
     "data": {
      "text/html": [
       "<div>\n",
       "<style scoped>\n",
       "    .dataframe tbody tr th:only-of-type {\n",
       "        vertical-align: middle;\n",
       "    }\n",
       "\n",
       "    .dataframe tbody tr th {\n",
       "        vertical-align: top;\n",
       "    }\n",
       "\n",
       "    .dataframe thead th {\n",
       "        text-align: right;\n",
       "    }\n",
       "</style>\n",
       "<table border=\"1\" class=\"dataframe\">\n",
       "  <thead>\n",
       "    <tr style=\"text-align: right;\">\n",
       "      <th></th>\n",
       "      <th>src_port</th>\n",
       "      <th>dst_port</th>\n",
       "      <th>protocol</th>\n",
       "      <th>first_pkt_size</th>\n",
       "      <th>Decision</th>\n",
       "    </tr>\n",
       "  </thead>\n",
       "  <tbody>\n",
       "    <tr>\n",
       "      <th>0</th>\n",
       "      <td>-1.128552</td>\n",
       "      <td>2.334849</td>\n",
       "      <td>-0.034486</td>\n",
       "      <td>-0.103479</td>\n",
       "      <td>mice</td>\n",
       "    </tr>\n",
       "    <tr>\n",
       "      <th>1</th>\n",
       "      <td>-1.214389</td>\n",
       "      <td>-0.676202</td>\n",
       "      <td>-1.342653</td>\n",
       "      <td>-0.059617</td>\n",
       "      <td>elephant</td>\n",
       "    </tr>\n",
       "    <tr>\n",
       "      <th>2</th>\n",
       "      <td>0.932816</td>\n",
       "      <td>-0.484076</td>\n",
       "      <td>2.843482</td>\n",
       "      <td>1.179494</td>\n",
       "      <td>elephant</td>\n",
       "    </tr>\n",
       "    <tr>\n",
       "      <th>3</th>\n",
       "      <td>0.706480</td>\n",
       "      <td>-0.651737</td>\n",
       "      <td>-0.034486</td>\n",
       "      <td>-0.235066</td>\n",
       "      <td>mice</td>\n",
       "    </tr>\n",
       "    <tr>\n",
       "      <th>4</th>\n",
       "      <td>0.646279</td>\n",
       "      <td>-0.503460</td>\n",
       "      <td>-0.034486</td>\n",
       "      <td>-0.235066</td>\n",
       "      <td>mice</td>\n",
       "    </tr>\n",
       "    <tr>\n",
       "      <th>...</th>\n",
       "      <td>...</td>\n",
       "      <td>...</td>\n",
       "      <td>...</td>\n",
       "      <td>...</td>\n",
       "      <td>...</td>\n",
       "    </tr>\n",
       "    <tr>\n",
       "      <th>1815567</th>\n",
       "      <td>-1.210954</td>\n",
       "      <td>0.000627</td>\n",
       "      <td>-0.034486</td>\n",
       "      <td>-0.103479</td>\n",
       "      <td>mice</td>\n",
       "    </tr>\n",
       "    <tr>\n",
       "      <th>1815568</th>\n",
       "      <td>-1.214389</td>\n",
       "      <td>-0.676202</td>\n",
       "      <td>-1.342653</td>\n",
       "      <td>-0.169273</td>\n",
       "      <td>mice</td>\n",
       "    </tr>\n",
       "    <tr>\n",
       "      <th>1815569</th>\n",
       "      <td>-1.214389</td>\n",
       "      <td>-0.676202</td>\n",
       "      <td>-1.342653</td>\n",
       "      <td>-0.169273</td>\n",
       "      <td>mice</td>\n",
       "    </tr>\n",
       "    <tr>\n",
       "      <th>1815570</th>\n",
       "      <td>0.711161</td>\n",
       "      <td>-0.545044</td>\n",
       "      <td>-0.034486</td>\n",
       "      <td>-0.235066</td>\n",
       "      <td>mice</td>\n",
       "    </tr>\n",
       "    <tr>\n",
       "      <th>1815571</th>\n",
       "      <td>0.947845</td>\n",
       "      <td>1.727547</td>\n",
       "      <td>-0.034486</td>\n",
       "      <td>-0.191204</td>\n",
       "      <td>mice</td>\n",
       "    </tr>\n",
       "  </tbody>\n",
       "</table>\n",
       "<p>1815572 rows × 5 columns</p>\n",
       "</div>"
      ],
      "text/plain": [
       "         src_port  dst_port  protocol  first_pkt_size  Decision\n",
       "0       -1.128552  2.334849 -0.034486       -0.103479      mice\n",
       "1       -1.214389 -0.676202 -1.342653       -0.059617  elephant\n",
       "2        0.932816 -0.484076  2.843482        1.179494  elephant\n",
       "3        0.706480 -0.651737 -0.034486       -0.235066      mice\n",
       "4        0.646279 -0.503460 -0.034486       -0.235066      mice\n",
       "...           ...       ...       ...             ...       ...\n",
       "1815567 -1.210954  0.000627 -0.034486       -0.103479      mice\n",
       "1815568 -1.214389 -0.676202 -1.342653       -0.169273      mice\n",
       "1815569 -1.214389 -0.676202 -1.342653       -0.169273      mice\n",
       "1815570  0.711161 -0.545044 -0.034486       -0.235066      mice\n",
       "1815571  0.947845  1.727547 -0.034486       -0.191204      mice\n",
       "\n",
       "[1815572 rows x 5 columns]"
      ]
     },
     "execution_count": 12,
     "metadata": {},
     "output_type": "execute_result"
    }
   ],
   "source": [
    "# Data Normalization\n",
    "scaler = StandardScaler()\n",
    "\n",
    "# Fit the scaler on the training set and transform the training set\n",
    "X_norm = scaler.fit_transform(X[features])\n",
    "X_norm = pd.DataFrame(X_norm, columns=features)\n",
    "X_norm[target] = X[target]\n",
    "X_norm"
   ]
  },
  {
   "cell_type": "code",
   "execution_count": 13,
   "id": "fac90889",
   "metadata": {},
   "outputs": [
    {
     "data": {
      "text/plain": [
       "mice        99.904823\n",
       "elephant     0.095177\n",
       "Name: Decision, dtype: float64"
      ]
     },
     "execution_count": 13,
     "metadata": {},
     "output_type": "execute_result"
    }
   ],
   "source": [
    "flows['Decision'].value_counts()/ flows.shape[0] * 100"
   ]
  },
  {
   "cell_type": "markdown",
   "id": "9f896505",
   "metadata": {},
   "source": [
    "### C4.5 Decision Tree"
   ]
  },
  {
   "cell_type": "code",
   "execution_count": 14,
   "id": "49d583af",
   "metadata": {},
   "outputs": [],
   "source": [
    "X_train, X_test = train_test_split(X_norm, test_size=0.2, random_state=1, stratify=X[target])"
   ]
  },
  {
   "cell_type": "code",
   "execution_count": 15,
   "id": "9d679481",
   "metadata": {},
   "outputs": [
    {
     "data": {
      "text/plain": [
       "mice        99.904851\n",
       "elephant     0.095149\n",
       "Name: Decision, dtype: float64"
      ]
     },
     "execution_count": 15,
     "metadata": {},
     "output_type": "execute_result"
    }
   ],
   "source": [
    "X_train['Decision'].value_counts() * 100/ X_train.shape[0]"
   ]
  },
  {
   "cell_type": "code",
   "execution_count": 16,
   "id": "d7870d0f",
   "metadata": {},
   "outputs": [
    {
     "data": {
      "text/plain": [
       "mice        99.904713\n",
       "elephant     0.095287\n",
       "Name: Decision, dtype: float64"
      ]
     },
     "execution_count": 16,
     "metadata": {},
     "output_type": "execute_result"
    }
   ],
   "source": [
    "X_test['Decision'].value_counts() * 100/ X_test.shape[0]"
   ]
  },
  {
   "cell_type": "code",
   "execution_count": 17,
   "id": "040113ba",
   "metadata": {},
   "outputs": [
    {
     "name": "stdout",
     "output_type": "stream",
     "text": [
      "[INFO]:  4 CPU cores will be allocated in parallel running\n",
      "C4.5  tree is going to be built...\n",
      "-------------------------\n",
      "finished in  36.708019495010376  seconds\n",
      "-------------------------\n",
      "Evaluate  train set\n",
      "-------------------------\n",
      "Accuracy:  99.90482338348465 % on  1815572  instances\n",
      "Labels:  ['mice' 'elephant']\n",
      "Confusion matrix:  [[1813843, 1727], [1, 1]]\n",
      "Precision:  99.9049 %, Recall:  99.9999 %, F1:  99.9524 %\n",
      "Runtime: 126.86706447601318 seconds\n"
     ]
    }
   ],
   "source": [
    "# define model\n",
    "config = {\n",
    "    'algorithm': 'C4.5',\n",
    "    'enableParallelism': True,\n",
    "    'enableMultitasking': True,\n",
    "    'enableRandomForest': False,\n",
    "    'num_of_trees': 1,\n",
    "    'max_depth': 5,\n",
    "    'min_samples': 5,  \n",
    "}\n",
    "\n",
    "start_time = time.time()\n",
    "\n",
    "model = chef.fit(X_norm, config=config)\n",
    "\n",
    "runtime = (time.time() - start_time)\n",
    "print(f'Runtime: {runtime} seconds')"
   ]
  },
  {
   "cell_type": "code",
   "execution_count": 18,
   "id": "560ae556",
   "metadata": {},
   "outputs": [
    {
     "name": "stdout",
     "output_type": "stream",
     "text": [
      "-------------------------\n",
      "Evaluate  test set\n",
      "-------------------------\n",
      "Accuracy:  99.9047133828126 % on  363115  instances\n",
      "Labels:  ['mice' 'elephant']\n",
      "Confusion matrix:  [[362769, 346], [0, 0]]\n",
      "Precision:  99.9047 %, Recall:  100.0 %, F1:  99.9523 %\n"
     ]
    }
   ],
   "source": [
    "evaluation = chef.evaluate(model, X_test, task=\"test\")"
   ]
  },
  {
   "cell_type": "code",
   "execution_count": 19,
   "id": "67e5a117",
   "metadata": {},
   "outputs": [
    {
     "name": "stdout",
     "output_type": "stream",
     "text": [
      "Decision rule:  outputs/rules/rules.py\n"
     ]
    },
    {
     "data": {
      "image/png": "[encoded data removed]",
      "text/plain": [
       "<Figure size 640x480 with 1 Axes>"
      ]
     },
     "metadata": {},
     "output_type": "display_data"
    }
   ],
   "source": [
    "rules = \"outputs/rules/rules.py\"\n",
    "fi = chef.feature_importance(rules).set_index(\"feature\")\n",
    "fi.plot(kind=\"barh\", title=\"Feature Importance\");"
   ]
  },
  {
   "cell_type": "markdown",
   "id": "8410b4f2",
   "metadata": {},
   "source": [
    "### Save Model File"
   ]
  },
  {
   "cell_type": "code",
   "execution_count": 20,
   "id": "28ac1b50",
   "metadata": {
    "collapsed": true
   },
   "outputs": [
    {
     "ename": "TypeError",
     "evalue": "cannot pickle 'module' object",
     "output_type": "error",
     "traceback": [
      "\u001b[1;31m---------------------------------------------------------------------------\u001b[0m",
      "\u001b[1;31mTypeError\u001b[0m                                 Traceback (most recent call last)",
      "Cell \u001b[1;32mIn[20], line 1\u001b[0m\n\u001b[1;32m----> 1\u001b[0m \u001b[43mjoblib\u001b[49m\u001b[38;5;241;43m.\u001b[39;49m\u001b[43mdump\u001b[49m\u001b[43m(\u001b[49m\u001b[43mmodel\u001b[49m\u001b[43m,\u001b[49m\u001b[43m \u001b[49m\u001b[43mmodel_info\u001b[49m\u001b[43m[\u001b[49m\u001b[38;5;124;43m'\u001b[39;49m\u001b[38;5;124;43mfile_name\u001b[39;49m\u001b[38;5;124;43m'\u001b[39;49m\u001b[43m]\u001b[49m\u001b[43m)\u001b[49m\n",
      "File \u001b[1;32m~\\AppData\\Local\\Programs\\Python\\Python310\\lib\\site-packages\\joblib\\numpy_pickle.py:553\u001b[0m, in \u001b[0;36mdump\u001b[1;34m(value, filename, compress, protocol, cache_size)\u001b[0m\n\u001b[0;32m    551\u001b[0m \u001b[38;5;28;01melif\u001b[39;00m is_filename:\n\u001b[0;32m    552\u001b[0m     \u001b[38;5;28;01mwith\u001b[39;00m \u001b[38;5;28mopen\u001b[39m(filename, \u001b[38;5;124m'\u001b[39m\u001b[38;5;124mwb\u001b[39m\u001b[38;5;124m'\u001b[39m) \u001b[38;5;28;01mas\u001b[39;00m f:\n\u001b[1;32m--> 553\u001b[0m         \u001b[43mNumpyPickler\u001b[49m\u001b[43m(\u001b[49m\u001b[43mf\u001b[49m\u001b[43m,\u001b[49m\u001b[43m \u001b[49m\u001b[43mprotocol\u001b[49m\u001b[38;5;241;43m=\u001b[39;49m\u001b[43mprotocol\u001b[49m\u001b[43m)\u001b[49m\u001b[38;5;241;43m.\u001b[39;49m\u001b[43mdump\u001b[49m\u001b[43m(\u001b[49m\u001b[43mvalue\u001b[49m\u001b[43m)\u001b[49m\n\u001b[0;32m    554\u001b[0m \u001b[38;5;28;01melse\u001b[39;00m:\n\u001b[0;32m    555\u001b[0m     NumpyPickler(filename, protocol\u001b[38;5;241m=\u001b[39mprotocol)\u001b[38;5;241m.\u001b[39mdump(value)\n",
      "File \u001b[1;32m~\\AppData\\Local\\Programs\\Python\\Python310\\lib\\pickle.py:487\u001b[0m, in \u001b[0;36m_Pickler.dump\u001b[1;34m(self, obj)\u001b[0m\n\u001b[0;32m    485\u001b[0m \u001b[38;5;28;01mif\u001b[39;00m \u001b[38;5;28mself\u001b[39m\u001b[38;5;241m.\u001b[39mproto \u001b[38;5;241m>\u001b[39m\u001b[38;5;241m=\u001b[39m \u001b[38;5;241m4\u001b[39m:\n\u001b[0;32m    486\u001b[0m     \u001b[38;5;28mself\u001b[39m\u001b[38;5;241m.\u001b[39mframer\u001b[38;5;241m.\u001b[39mstart_framing()\n\u001b[1;32m--> 487\u001b[0m \u001b[38;5;28;43mself\u001b[39;49m\u001b[38;5;241;43m.\u001b[39;49m\u001b[43msave\u001b[49m\u001b[43m(\u001b[49m\u001b[43mobj\u001b[49m\u001b[43m)\u001b[49m\n\u001b[0;32m    488\u001b[0m \u001b[38;5;28mself\u001b[39m\u001b[38;5;241m.\u001b[39mwrite(STOP)\n\u001b[0;32m    489\u001b[0m \u001b[38;5;28mself\u001b[39m\u001b[38;5;241m.\u001b[39mframer\u001b[38;5;241m.\u001b[39mend_framing()\n",
      "File \u001b[1;32m~\\AppData\\Local\\Programs\\Python\\Python310\\lib\\site-packages\\joblib\\numpy_pickle.py:355\u001b[0m, in \u001b[0;36mNumpyPickler.save\u001b[1;34m(self, obj)\u001b[0m\n\u001b[0;32m    352\u001b[0m     wrapper\u001b[38;5;241m.\u001b[39mwrite_array(obj, \u001b[38;5;28mself\u001b[39m)\n\u001b[0;32m    353\u001b[0m     \u001b[38;5;28;01mreturn\u001b[39;00m\n\u001b[1;32m--> 355\u001b[0m \u001b[38;5;28;01mreturn\u001b[39;00m \u001b[43mPickler\u001b[49m\u001b[38;5;241;43m.\u001b[39;49m\u001b[43msave\u001b[49m\u001b[43m(\u001b[49m\u001b[38;5;28;43mself\u001b[39;49m\u001b[43m,\u001b[49m\u001b[43m \u001b[49m\u001b[43mobj\u001b[49m\u001b[43m)\u001b[49m\n",
      "File \u001b[1;32m~\\AppData\\Local\\Programs\\Python\\Python310\\lib\\pickle.py:560\u001b[0m, in \u001b[0;36m_Pickler.save\u001b[1;34m(self, obj, save_persistent_id)\u001b[0m\n\u001b[0;32m    558\u001b[0m f \u001b[38;5;241m=\u001b[39m \u001b[38;5;28mself\u001b[39m\u001b[38;5;241m.\u001b[39mdispatch\u001b[38;5;241m.\u001b[39mget(t)\n\u001b[0;32m    559\u001b[0m \u001b[38;5;28;01mif\u001b[39;00m f \u001b[38;5;129;01mis\u001b[39;00m \u001b[38;5;129;01mnot\u001b[39;00m \u001b[38;5;28;01mNone\u001b[39;00m:\n\u001b[1;32m--> 560\u001b[0m     \u001b[43mf\u001b[49m\u001b[43m(\u001b[49m\u001b[38;5;28;43mself\u001b[39;49m\u001b[43m,\u001b[49m\u001b[43m \u001b[49m\u001b[43mobj\u001b[49m\u001b[43m)\u001b[49m  \u001b[38;5;66;03m# Call unbound method with explicit self\u001b[39;00m\n\u001b[0;32m    561\u001b[0m     \u001b[38;5;28;01mreturn\u001b[39;00m\n\u001b[0;32m    563\u001b[0m \u001b[38;5;66;03m# Check private dispatch table if any, or else\u001b[39;00m\n\u001b[0;32m    564\u001b[0m \u001b[38;5;66;03m# copyreg.dispatch_table\u001b[39;00m\n",
      "File \u001b[1;32m~\\AppData\\Local\\Programs\\Python\\Python310\\lib\\pickle.py:972\u001b[0m, in \u001b[0;36m_Pickler.save_dict\u001b[1;34m(self, obj)\u001b[0m\n\u001b[0;32m    969\u001b[0m     \u001b[38;5;28mself\u001b[39m\u001b[38;5;241m.\u001b[39mwrite(MARK \u001b[38;5;241m+\u001b[39m DICT)\n\u001b[0;32m    971\u001b[0m \u001b[38;5;28mself\u001b[39m\u001b[38;5;241m.\u001b[39mmemoize(obj)\n\u001b[1;32m--> 972\u001b[0m \u001b[38;5;28;43mself\u001b[39;49m\u001b[38;5;241;43m.\u001b[39;49m\u001b[43m_batch_setitems\u001b[49m\u001b[43m(\u001b[49m\u001b[43mobj\u001b[49m\u001b[38;5;241;43m.\u001b[39;49m\u001b[43mitems\u001b[49m\u001b[43m(\u001b[49m\u001b[43m)\u001b[49m\u001b[43m)\u001b[49m\n",
      "File \u001b[1;32m~\\AppData\\Local\\Programs\\Python\\Python310\\lib\\pickle.py:998\u001b[0m, in \u001b[0;36m_Pickler._batch_setitems\u001b[1;34m(self, items)\u001b[0m\n\u001b[0;32m    996\u001b[0m     \u001b[38;5;28;01mfor\u001b[39;00m k, v \u001b[38;5;129;01min\u001b[39;00m tmp:\n\u001b[0;32m    997\u001b[0m         save(k)\n\u001b[1;32m--> 998\u001b[0m         \u001b[43msave\u001b[49m\u001b[43m(\u001b[49m\u001b[43mv\u001b[49m\u001b[43m)\u001b[49m\n\u001b[0;32m    999\u001b[0m     write(SETITEMS)\n\u001b[0;32m   1000\u001b[0m \u001b[38;5;28;01melif\u001b[39;00m n:\n",
      "File \u001b[1;32m~\\AppData\\Local\\Programs\\Python\\Python310\\lib\\site-packages\\joblib\\numpy_pickle.py:355\u001b[0m, in \u001b[0;36mNumpyPickler.save\u001b[1;34m(self, obj)\u001b[0m\n\u001b[0;32m    352\u001b[0m     wrapper\u001b[38;5;241m.\u001b[39mwrite_array(obj, \u001b[38;5;28mself\u001b[39m)\n\u001b[0;32m    353\u001b[0m     \u001b[38;5;28;01mreturn\u001b[39;00m\n\u001b[1;32m--> 355\u001b[0m \u001b[38;5;28;01mreturn\u001b[39;00m \u001b[43mPickler\u001b[49m\u001b[38;5;241;43m.\u001b[39;49m\u001b[43msave\u001b[49m\u001b[43m(\u001b[49m\u001b[38;5;28;43mself\u001b[39;49m\u001b[43m,\u001b[49m\u001b[43m \u001b[49m\u001b[43mobj\u001b[49m\u001b[43m)\u001b[49m\n",
      "File \u001b[1;32m~\\AppData\\Local\\Programs\\Python\\Python310\\lib\\pickle.py:560\u001b[0m, in \u001b[0;36m_Pickler.save\u001b[1;34m(self, obj, save_persistent_id)\u001b[0m\n\u001b[0;32m    558\u001b[0m f \u001b[38;5;241m=\u001b[39m \u001b[38;5;28mself\u001b[39m\u001b[38;5;241m.\u001b[39mdispatch\u001b[38;5;241m.\u001b[39mget(t)\n\u001b[0;32m    559\u001b[0m \u001b[38;5;28;01mif\u001b[39;00m f \u001b[38;5;129;01mis\u001b[39;00m \u001b[38;5;129;01mnot\u001b[39;00m \u001b[38;5;28;01mNone\u001b[39;00m:\n\u001b[1;32m--> 560\u001b[0m     \u001b[43mf\u001b[49m\u001b[43m(\u001b[49m\u001b[38;5;28;43mself\u001b[39;49m\u001b[43m,\u001b[49m\u001b[43m \u001b[49m\u001b[43mobj\u001b[49m\u001b[43m)\u001b[49m  \u001b[38;5;66;03m# Call unbound method with explicit self\u001b[39;00m\n\u001b[0;32m    561\u001b[0m     \u001b[38;5;28;01mreturn\u001b[39;00m\n\u001b[0;32m    563\u001b[0m \u001b[38;5;66;03m# Check private dispatch table if any, or else\u001b[39;00m\n\u001b[0;32m    564\u001b[0m \u001b[38;5;66;03m# copyreg.dispatch_table\u001b[39;00m\n",
      "File \u001b[1;32m~\\AppData\\Local\\Programs\\Python\\Python310\\lib\\pickle.py:932\u001b[0m, in \u001b[0;36m_Pickler.save_list\u001b[1;34m(self, obj)\u001b[0m\n\u001b[0;32m    929\u001b[0m     \u001b[38;5;28mself\u001b[39m\u001b[38;5;241m.\u001b[39mwrite(MARK \u001b[38;5;241m+\u001b[39m LIST)\n\u001b[0;32m    931\u001b[0m \u001b[38;5;28mself\u001b[39m\u001b[38;5;241m.\u001b[39mmemoize(obj)\n\u001b[1;32m--> 932\u001b[0m \u001b[38;5;28;43mself\u001b[39;49m\u001b[38;5;241;43m.\u001b[39;49m\u001b[43m_batch_appends\u001b[49m\u001b[43m(\u001b[49m\u001b[43mobj\u001b[49m\u001b[43m)\u001b[49m\n",
      "File \u001b[1;32m~\\AppData\\Local\\Programs\\Python\\Python310\\lib\\pickle.py:959\u001b[0m, in \u001b[0;36m_Pickler._batch_appends\u001b[1;34m(self, items)\u001b[0m\n\u001b[0;32m    957\u001b[0m     write(APPENDS)\n\u001b[0;32m    958\u001b[0m \u001b[38;5;28;01melif\u001b[39;00m n:\n\u001b[1;32m--> 959\u001b[0m     \u001b[43msave\u001b[49m\u001b[43m(\u001b[49m\u001b[43mtmp\u001b[49m\u001b[43m[\u001b[49m\u001b[38;5;241;43m0\u001b[39;49m\u001b[43m]\u001b[49m\u001b[43m)\u001b[49m\n\u001b[0;32m    960\u001b[0m     write(APPEND)\n\u001b[0;32m    961\u001b[0m \u001b[38;5;66;03m# else tmp is empty, and we're done\u001b[39;00m\n",
      "File \u001b[1;32m~\\AppData\\Local\\Programs\\Python\\Python310\\lib\\site-packages\\joblib\\numpy_pickle.py:355\u001b[0m, in \u001b[0;36mNumpyPickler.save\u001b[1;34m(self, obj)\u001b[0m\n\u001b[0;32m    352\u001b[0m     wrapper\u001b[38;5;241m.\u001b[39mwrite_array(obj, \u001b[38;5;28mself\u001b[39m)\n\u001b[0;32m    353\u001b[0m     \u001b[38;5;28;01mreturn\u001b[39;00m\n\u001b[1;32m--> 355\u001b[0m \u001b[38;5;28;01mreturn\u001b[39;00m \u001b[43mPickler\u001b[49m\u001b[38;5;241;43m.\u001b[39;49m\u001b[43msave\u001b[49m\u001b[43m(\u001b[49m\u001b[38;5;28;43mself\u001b[39;49m\u001b[43m,\u001b[49m\u001b[43m \u001b[49m\u001b[43mobj\u001b[49m\u001b[43m)\u001b[49m\n",
      "File \u001b[1;32m~\\AppData\\Local\\Programs\\Python\\Python310\\lib\\pickle.py:578\u001b[0m, in \u001b[0;36m_Pickler.save\u001b[1;34m(self, obj, save_persistent_id)\u001b[0m\n\u001b[0;32m    576\u001b[0m reduce \u001b[38;5;241m=\u001b[39m \u001b[38;5;28mgetattr\u001b[39m(obj, \u001b[38;5;124m\"\u001b[39m\u001b[38;5;124m__reduce_ex__\u001b[39m\u001b[38;5;124m\"\u001b[39m, \u001b[38;5;28;01mNone\u001b[39;00m)\n\u001b[0;32m    577\u001b[0m \u001b[38;5;28;01mif\u001b[39;00m reduce \u001b[38;5;129;01mis\u001b[39;00m \u001b[38;5;129;01mnot\u001b[39;00m \u001b[38;5;28;01mNone\u001b[39;00m:\n\u001b[1;32m--> 578\u001b[0m     rv \u001b[38;5;241m=\u001b[39m \u001b[43mreduce\u001b[49m\u001b[43m(\u001b[49m\u001b[38;5;28;43mself\u001b[39;49m\u001b[38;5;241;43m.\u001b[39;49m\u001b[43mproto\u001b[49m\u001b[43m)\u001b[49m\n\u001b[0;32m    579\u001b[0m \u001b[38;5;28;01melse\u001b[39;00m:\n\u001b[0;32m    580\u001b[0m     reduce \u001b[38;5;241m=\u001b[39m \u001b[38;5;28mgetattr\u001b[39m(obj, \u001b[38;5;124m\"\u001b[39m\u001b[38;5;124m__reduce__\u001b[39m\u001b[38;5;124m\"\u001b[39m, \u001b[38;5;28;01mNone\u001b[39;00m)\n",
      "\u001b[1;31mTypeError\u001b[0m: cannot pickle 'module' object"
     ]
    }
   ],
   "source": [
    "joblib.dump(model, model_info['file_name'])"
   ]
  },
  {
   "cell_type": "markdown",
   "id": "6af429c1",
   "metadata": {},
   "source": [
    "### Load Model File"
   ]
  },
  {
   "cell_type": "code",
   "execution_count": 98,
   "id": "4576ecdf",
   "metadata": {},
   "outputs": [
    {
     "name": "stdout",
     "output_type": "stream",
     "text": [
      "There is no model to save.\n"
     ]
    },
    {
     "data": {
      "text/plain": [
       "{'trees': [<module 'outputs/rules/rules' from 'D:\\\\My Businesses\\\\Programming\\\\Projects\\\\Python\\\\Resource-Aware Traffic Steering in Service Function Chaining\\\\1. Data Preparation\\\\outputs/rules/rules.py'>],\n",
       " 'alphas': [],\n",
       " 'config': {'algorithm': 'C4.5',\n",
       "  'enableParallelism': True,\n",
       "  'enableRandomForest': False,\n",
       "  'num_of_trees': 5,\n",
       "  'enableMultitasking': False,\n",
       "  'enableGBM': False,\n",
       "  'epochs': 10,\n",
       "  'learning_rate': 1,\n",
       "  'max_depth': 3,\n",
       "  'enableAdaboost': False,\n",
       "  'num_of_weak_classifier': 4,\n",
       "  'num_cores': 4},\n",
       " 'nan_values': [['src_port', None],\n",
       "  ['dst_port', None],\n",
       "  ['protocol', None],\n",
       "  ['first_pkt_size', None]]}"
      ]
     },
     "execution_count": 98,
     "metadata": {},
     "output_type": "execute_result"
    }
   ],
   "source": [
    "model = joblib.load(model_info['file_name'])"
   ]
  },
  {
   "cell_type": "code",
   "execution_count": null,
   "id": "72469814",
   "metadata": {},
   "outputs": [],
   "source": []
  }
 ],
 "metadata": {
  "kernelspec": {
   "display_name": "Python 3 (ipykernel)",
   "language": "python",
   "name": "python3"
  },
  "language_info": {
   "codemirror_mode": {
    "name": "ipython",
    "version": 3
   },
   "file_extension": ".py",
   "mimetype": "text/x-python",
   "name": "python",
   "nbconvert_exporter": "python",
   "pygments_lexer": "ipython3",
   "version": "3.10.11"
  }
 },
 "nbformat": 4,
 "nbformat_minor": 5
}
