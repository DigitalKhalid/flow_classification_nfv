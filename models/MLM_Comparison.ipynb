{
 "cells": [
  {
   "cell_type": "code",
   "execution_count": 3,
   "id": "c1a0f807",
   "metadata": {},
   "outputs": [],
   "source": [
    "import pandas as pd\n",
    "import numpy as np\n",
    "import matplotlib.pyplot as plt\n",
    "import matplotlib\n",
    "import seaborn as sns\n",
    "\n",
    "from sklearn.preprocessing import StandardScaler\n",
    "from sklearn.metrics import f1_score, r2_score, roc_curve, auc, roc_auc_score\n",
    "from sklearn.metrics import confusion_matrix, precision_score, accuracy_score, recall_score\n",
    "import itertools\n",
    "import joblib\n",
    "import json"
   ]
  },
  {
   "cell_type": "code",
   "execution_count": 8,
   "id": "6d48143c",
   "metadata": {},
   "outputs": [],
   "source": [
    "# Load model information files\n",
    "model_1 = open('model_info_Cost Effective Decision Tree.json')\n",
    "model_2 = open('model_info_Cost Effective Random Forest.json')\n",
    "\n",
    "# returns JSON object as\n",
    "# a dictionary\n",
    "model_info['model_1'] = json.load(model_1)\n",
    "model_info['model_2'] = json.load(model_2)"
   ]
  },
  {
   "cell_type": "code",
   "execution_count": 9,
   "id": "caedb258",
   "metadata": {},
   "outputs": [
    {
     "data": {
      "text/plain": [
       "{'model_name': 'Cost Effective Decision Tree',\n",
       " 'training_file': 'MLM_Decision_Tree.ipynb',\n",
       " 'file_name': 'model_dt.pkl',\n",
       " 'prepared_by': 'Digital Khalid',\n",
       " 'library': 'Scikit-Learn',\n",
       " 'classifier': 'Decision Tree Classifier',\n",
       " 'normalization': 'Standard Scaler (Z-Score)',\n",
       " 'data_file': 'flows.csv',\n",
       " 'features': ['src_port', 'dst_port', 'protocol', 'first_pkt_size'],\n",
       " 'target': ['elephant'],\n",
       " 'model_1': {'model_name': 'Cost Effective Decision Tree',\n",
       "  'training_file': 'MLM_Decision_Tree.ipynb',\n",
       "  'file_name': 'model_dt.pkl',\n",
       "  'prepared_by': 'Digital Khalid',\n",
       "  'library': 'Scikit-Learn',\n",
       "  'classifier': 'Decision Tree Classifier',\n",
       "  'normalization': 'Standard Scaler (Z-Score)',\n",
       "  'data_file': 'flows.csv',\n",
       "  'features': ['src_port', 'dst_port', 'protocol', 'first_pkt_size'],\n",
       "  'target': ['elephant']},\n",
       " 'model_2': {'model_name': 'Cost Effective Random Forest',\n",
       "  'training_file': 'MLM_Random_Forest.ipynb',\n",
       "  'file_name': 'model_rf.pkl',\n",
       "  'prepared_by': 'Digital Khalid',\n",
       "  'library': 'Scikit-Learn',\n",
       "  'classifier': 'Random Forest Classifier',\n",
       "  'normalization': 'Standard Scaler (Z-Score)',\n",
       "  'data_file': 'flows.csv',\n",
       "  'features': ['src_port', 'dst_port', 'protocol', 'first_pkt_size'],\n",
       "  'target': ['elephant']}}"
      ]
     },
     "execution_count": 9,
     "metadata": {},
     "output_type": "execute_result"
    }
   ],
   "source": [
    "model_info"
   ]
  },
  {
   "cell_type": "code",
   "execution_count": 6,
   "id": "672dc065",
   "metadata": {},
   "outputs": [],
   "source": [
    "model = joblib.load(model_info['file_name'])"
   ]
  },
  {
   "cell_type": "code",
   "execution_count": null,
   "id": "5fd1e4ff",
   "metadata": {},
   "outputs": [],
   "source": []
  }
 ],
 "metadata": {
  "kernelspec": {
   "display_name": "Python 3 (ipykernel)",
   "language": "python",
   "name": "python3"
  },
  "language_info": {
   "codemirror_mode": {
    "name": "ipython",
    "version": 3
   },
   "file_extension": ".py",
   "mimetype": "text/x-python",
   "name": "python",
   "nbconvert_exporter": "python",
   "pygments_lexer": "ipython3",
   "version": "3.10.11"
  }
 },
 "nbformat": 4,
 "nbformat_minor": 5
}
